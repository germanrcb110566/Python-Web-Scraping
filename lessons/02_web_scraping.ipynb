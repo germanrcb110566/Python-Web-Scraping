{
 "cells": [
  {
   "cell_type": "markdown",
   "metadata": {},
   "source": [
    "# Web Scraping with Beautiful Soup\n",
    "\n",
    "* * * \n",
    "\n",
    "### Icons used in this notebook\n",
    "🔔 **Question**: A quick question to help you understand what's going on.<br>\n",
    "🥊 **Challenge**: Interactive exercise. We'll work through these in the workshop!<br>\n",
    "⚠️ **Warning**: Heads-up about tricky stuff or common mistakes.<br>\n",
    "💡 **Tip**: How to do something a bit more efficiently or effectively.<br>\n",
    "🎬 **Demo**: Showing off something more advanced – so you know what Python can be used for!<br>\n",
    "\n",
    "### Learning Objectives\n",
    "1. [Reflection: To Scape Or Not To Scrape](#when)\n",
    "2. [Extracting and Parsing HTML](#extract)\n",
    "3. [Scraping the Illinois General Assembly](#scrape)"
   ]
  },
  {
   "cell_type": "markdown",
   "metadata": {},
   "source": [
    "<a id='when'></a>\n",
    "\n",
    "# To Scrape Or Not To Scrape\n",
    "\n",
    "When we'd like to access data from the web, we first have to make sure if the website we are interested in offers a Web API. Platforms like Twitter, Reddit, and the New York Times offer APIs. **Check out D-Lab's [Python Web APIs](https://github.com/dlab-berkeley/Python-Web-APIs) workshop if you want to learn how to use APIs.**\n",
    "\n",
    "However, there are often cases when a Web API does not exist. In these cases, we may have to resort to web scraping, where we extract the underlying HTML from a web page, and directly obtain the information we want. There are several packages in Python we can use to accomplish these tasks. We'll focus two packages: Requests and Beautiful Soup.\n",
    "\n",
    "Our case study will be scraping information on the [state senators of Illinois](http://www.ilga.gov/senate), as well as the [list of bills](http://www.ilga.gov/senate/SenatorBills.asp?MemberID=1911&GA=98&Primary=True) each senator has sponsored. Before we get started, peruse these websites to take a look at their structure."
   ]
  },
  {
   "cell_type": "markdown",
   "metadata": {},
   "source": [
    "## Installation\n",
    "\n",
    "We will use two main packages: [Requests](http://docs.python-requests.org/en/latest/user/quickstart/) and [Beautiful Soup](http://www.crummy.com/software/BeautifulSoup/bs4/doc/). Go ahead and install these packages, if you haven't already:"
   ]
  },
  {
   "cell_type": "code",
   "execution_count": 1,
   "metadata": {},
   "outputs": [
    {
     "name": "stdout",
     "output_type": "stream",
     "text": [
      "Requirement already satisfied: requests in c:\\users\\germa\\anaconda3\\lib\\site-packages (2.32.3)\n",
      "Requirement already satisfied: charset-normalizer<4,>=2 in c:\\users\\germa\\anaconda3\\lib\\site-packages (from requests) (3.3.2)\n",
      "Requirement already satisfied: idna<4,>=2.5 in c:\\users\\germa\\anaconda3\\lib\\site-packages (from requests) (3.7)\n",
      "Requirement already satisfied: urllib3<3,>=1.21.1 in c:\\users\\germa\\anaconda3\\lib\\site-packages (from requests) (2.3.0)\n",
      "Requirement already satisfied: certifi>=2017.4.17 in c:\\users\\germa\\anaconda3\\lib\\site-packages (from requests) (2025.7.14)\n",
      "Note: you may need to restart the kernel to use updated packages.\n"
     ]
    }
   ],
   "source": [
    "%pip install requests"
   ]
  },
  {
   "cell_type": "code",
   "execution_count": 2,
   "metadata": {},
   "outputs": [
    {
     "name": "stdout",
     "output_type": "stream",
     "text": [
      "Requirement already satisfied: beautifulsoup4 in c:\\users\\germa\\anaconda3\\lib\\site-packages (4.12.3)\n",
      "Requirement already satisfied: soupsieve>1.2 in c:\\users\\germa\\anaconda3\\lib\\site-packages (from beautifulsoup4) (2.5)\n",
      "Note: you may need to restart the kernel to use updated packages.\n"
     ]
    }
   ],
   "source": [
    "%pip install beautifulsoup4"
   ]
  },
  {
   "cell_type": "markdown",
   "metadata": {},
   "source": [
    "We'll also install the `lxml` package, which helps support some of the parsing that Beautiful Soup performs:"
   ]
  },
  {
   "cell_type": "code",
   "execution_count": 3,
   "metadata": {},
   "outputs": [
    {
     "name": "stdout",
     "output_type": "stream",
     "text": [
      "Requirement already satisfied: lxml in c:\\users\\germa\\anaconda3\\lib\\site-packages (5.3.0)\n",
      "Note: you may need to restart the kernel to use updated packages.\n"
     ]
    }
   ],
   "source": [
    "%pip install lxml"
   ]
  },
  {
   "cell_type": "code",
   "execution_count": null,
   "metadata": {
    "tags": []
   },
   "outputs": [],
   "source": [
    "# Import required libraries\n",
    "from bs4 import BeautifulSoup\n",
    "from datetime import datetime\n",
    "import requests\n",
    "import time"
   ]
  },
  {
   "cell_type": "markdown",
   "metadata": {},
   "source": [
    "# Comentario: German Camacho Brausendorff   Grupo 8\n",
    "# Se importan las librarias que se van a utilizar dentro del script"
   ]
  },
  {
   "cell_type": "markdown",
   "metadata": {},
   "source": [
    "## Step 1: Make a GET Request to Obtain a Page's HTML\n",
    "\n",
    "We can use the Requests library to:\n",
    "\n",
    "1. Make a GET request to the page, and\n",
    "2. Read in the webpage's HTML code.\n",
    "\n",
    "The process of making a request and obtaining a result resembles that of the Web API workflow. Now, however, we're making a request directly to the website, and we're going to have to parse the HTML ourselves. This is in contrast to being provided data organized into a more straightforward `JSON` or `XML` output."
   ]
  },
  {
   "cell_type": "code",
   "execution_count": null,
   "metadata": {
    "tags": []
   },
   "outputs": [
    {
     "name": "stdout",
     "output_type": "stream",
     "text": [
      "<!DOCTYPE html>\n",
      "<html lang=\"en\">\n",
      "<head id=\"Head1\">\n",
      "    <meta name=\"viewport\" content=\"width=device-width, initial-scale=1.0\" />\n",
      "    <meta http-equiv=\"content-type\" content=\"text/html;charset=utf-8\" />\n",
      "    <meta http-equiv=\"X-UA-Compatible\" content=\"IE=Edge\" />\n",
      "    <meta charset=\"utf-8\" />\n",
      "    <meta charset=\"UTF-8\">\n",
      "    <!-- Meta Description -->\n",
      "    <meta name=\"description\" content=\"Welcome to the official government website of the Illinois General Assembly\">\n",
      "    <meta name=\"contactName\" content=\"Legislative Information System\">\n",
      "    <meta name=\"contactOrganization\" content=\"LIS Staff Services\">\n",
      "    <meta name=\"contactStreetAddress1\" content=\"705 Stratton Office Building\">\n",
      "    <meta name=\"contactCity\" content=\"Springfield\">\n",
      "    <meta name=\"contactZipcode\" content=\"62706\">\n",
      "    <meta name=\"contactNetworkAddress\" content=\"webmaster@ilga.gov\">\n",
      "    <meta name=\"contactPhoneNumber\" content=\"217-782-3944\">\n",
      "    <meta name=\"contactFaxNumber\" content=\"217-524-6059\">\n",
      "    <meta name\n"
     ]
    }
   ],
   "source": [
    "\n",
    "# Make a GET request\n",
    "req = requests.get('http://www.ilga.gov/senate/default.asp')\n",
    "# Read the content of the server’s response\n",
    "src = req.text\n",
    "# View some output\n",
    "print(src[:1000])"
   ]
  },
  {
   "cell_type": "markdown",
   "metadata": {},
   "source": [
    "# Comentario: German Camacho Brausendorff   Grupo 8 -------------------------\n",
    "# Se hace una solicitud GET a la pagina web del Senado de Illinois\n",
    "# y el resulktado se almacena en la variable src\n",
    "# se presenta la informacion de los primeros 1000 caracteres de la pagina web\n",
    "# ----------------------------------------------------------------------------"
   ]
  },
  {
   "cell_type": "markdown",
   "metadata": {},
   "source": [
    "## Step 2: Parse the Page with Beautiful Soup\n",
    "\n",
    "Now, we use the `BeautifulSoup` function to parse the reponse into an HTML tree. This returns an object (called a **soup object**) which contains all of the HTML in the original document.\n",
    "\n",
    "If you run into an error about a parser library, make sure you've installed the `lxml` package to provide Beautiful Soup with the necessary parsing tools."
   ]
  },
  {
   "cell_type": "code",
   "execution_count": null,
   "metadata": {},
   "outputs": [
    {
     "name": "stdout",
     "output_type": "stream",
     "text": [
      "<!DOCTYPE html>\n",
      "<html lang=\"en\">\n",
      " <head id=\"Head1\">\n",
      "  <meta content=\"width=device-width, initial-scale=1.0\" name=\"viewport\"/>\n",
      "  <meta content=\"text/html;charset=utf-8\" http-equiv=\"content-type\"/>\n",
      "  <meta content=\"IE=Edge\" http-equiv=\"X-UA-Compatible\"/>\n",
      "  <meta charset=\"utf-8\"/>\n",
      "  <meta charset=\"utf-8\"/>\n",
      "  <!-- Meta Description -->\n",
      "  <meta content=\"Welcome to the official government website of the Illinois General Assembly\" name=\"description\"/>\n",
      "  <meta content=\"Legislative Information System\" name=\"contactName\"/>\n",
      "  <meta content=\"LIS Staff Services\" name=\"contactOrganization\"/>\n",
      "  <meta content=\"705 Stratton Office Building\" name=\"contactStreetAddress1\"/>\n",
      "  <meta content=\"Springfield\" name=\"contactCity\"/>\n",
      "  <meta content=\"62706\" name=\"contactZipcode\"/>\n",
      "  <meta content=\"webmaster@ilga.gov\" name=\"contactNetworkAddress\"/>\n",
      "  <meta content=\"217-782-3944\" name=\"contactPhoneNumber\"/>\n",
      "  <meta content=\"217-524-6059\" name=\"contactFaxNumber\"/>\n",
      "  <meta content=\"State Of Illinois\" name=\"originatorJur\n"
     ]
    }
   ],
   "source": [
    "# Parse the response into an HTML tree\n",
    "soup = BeautifulSoup(src, 'lxml')\n",
    "# Take a look\n",
    "print(soup.prettify()[:1000])"
   ]
  },
  {
   "cell_type": "markdown",
   "metadata": {},
   "source": [
    "# Comentario: German Camacho Brausendorff   Grupo 8 -------------------------\n",
    "# se utiliza BeautifulSoup para parsear la respuesta en un arbol HTML\n",
    "# y se presenta la información de los primeros 1000 caracteres del arbol HTML\n",
    "# ----------------------------------------------------------------------------"
   ]
  },
  {
   "cell_type": "markdown",
   "metadata": {},
   "source": [
    "The output looks pretty similar to the above, but now it's organized in a `soup` object which allows us to more easily traverse the page."
   ]
  },
  {
   "cell_type": "markdown",
   "metadata": {},
   "source": [
    "## Step 3: Search for HTML Elements\n",
    "\n",
    "Beautiful Soup has a number of functions to find useful components on a page. Beautiful Soup lets you find elements by their:\n",
    "\n",
    "1. HTML tags\n",
    "2. HTML Attributes\n",
    "3. CSS Selectors\n",
    "\n",
    "Let's search first for **HTML tags**. \n",
    "\n",
    "The function `find_all` searches the `soup` tree to find all the elements with an a particular HTML tag, and returns all of those elements.\n",
    "\n",
    "What does the example below do?"
   ]
  },
  {
   "cell_type": "code",
   "execution_count": null,
   "metadata": {},
   "outputs": [
    {
     "name": "stdout",
     "output_type": "stream",
     "text": [
      "[<a b-0yw6sxot5c=\"\" class=\"dropdown-item\" data-lang=\"en\" href=\"#\">\n",
      "<span b-0yw6sxot5c=\"\" class=\"flag-icon flag-icon-us\"></span> English\n",
      "                            </a>, <a b-0yw6sxot5c=\"\" class=\"dropdown-item\" data-lang=\"af\" href=\"#\">\n",
      "<span b-0yw6sxot5c=\"\" class=\"flag-icon flag-icon-za\"></span> Afrikaans\n",
      "                            </a>, <a b-0yw6sxot5c=\"\" class=\"dropdown-item\" data-lang=\"sq\" href=\"#\">\n",
      "<span b-0yw6sxot5c=\"\" class=\"flag-icon flag-icon-al\"></span> Albanian\n",
      "                            </a>, <a b-0yw6sxot5c=\"\" class=\"dropdown-item\" data-lang=\"ar\" href=\"#\">\n",
      "<span b-0yw6sxot5c=\"\" class=\"flag-icon flag-icon-ae\"></span> Arabic\n",
      "                            </a>, <a b-0yw6sxot5c=\"\" class=\"dropdown-item\" data-lang=\"hy\" href=\"#\">\n",
      "<span b-0yw6sxot5c=\"\" class=\"flag-icon flag-icon-am\"></span> Armenian\n",
      "                            </a>, <a b-0yw6sxot5c=\"\" class=\"dropdown-item\" data-lang=\"az\" href=\"#\">\n",
      "<span b-0yw6sxot5c=\"\" class=\"flag-icon flag-icon-az\"></span> Azerbaijani\n",
      "                            </a>, <a b-0yw6sxot5c=\"\" class=\"dropdown-item\" data-lang=\"eu\" href=\"#\">\n",
      "<span b-0yw6sxot5c=\"\" class=\"flag-icon flag-icon-eu\"></span> Basque\n",
      "                            </a>, <a b-0yw6sxot5c=\"\" class=\"dropdown-item\" data-lang=\"bn\" href=\"#\">\n",
      "<span b-0yw6sxot5c=\"\" class=\"flag-icon flag-icon-bd\"></span> Bengali\n",
      "                            </a>, <a b-0yw6sxot5c=\"\" class=\"dropdown-item\" data-lang=\"bs\" href=\"#\">\n",
      "<span b-0yw6sxot5c=\"\" class=\"flag-icon flag-icon-ba\"></span> Bosnian\n",
      "                            </a>, <a b-0yw6sxot5c=\"\" class=\"dropdown-item\" data-lang=\"ca\" href=\"#\">\n",
      "<span b-0yw6sxot5c=\"\" class=\"flag-icon flag-icon-es\"></span> Catalan\n",
      "                            </a>]\n"
     ]
    }
   ],
   "source": [
    "\n",
    "# Find all elements with a certain tag\n",
    "a_tags = soup.find_all(\"a\")\n",
    "print(a_tags[:10])"
   ]
  },
  {
   "cell_type": "markdown",
   "metadata": {},
   "source": [
    "Because `find_all()` is the most popular method in the Beautiful Soup search API, you can use a shortcut for it. If you treat the BeautifulSoup object as though it were a function, then it’s the same as calling `find_all()` on that object. \n",
    "\n",
    "These two lines of code are equivalent:"
   ]
  },
  {
   "cell_type": "markdown",
   "metadata": {},
   "source": [
    "# Comentario: German Camacho Brausendorff   Grupo 8 -------------------------\n",
    "# Se busca un elemento con un id específico en el arbol HTML con etiqueta 'a'\n",
    "# se presenta la información de los ultimos 10 elementos encontrados\n",
    "# ----------------------------------------------------------------------------\n"
   ]
  },
  {
   "cell_type": "code",
   "execution_count": null,
   "metadata": {
    "tags": []
   },
   "outputs": [
    {
     "name": "stdout",
     "output_type": "stream",
     "text": [
      "<a b-0yw6sxot5c=\"\" class=\"dropdown-item\" data-lang=\"en\" href=\"#\">\n",
      "<span b-0yw6sxot5c=\"\" class=\"flag-icon flag-icon-us\"></span> English\n",
      "                            </a>\n",
      "<a b-0yw6sxot5c=\"\" class=\"dropdown-item\" data-lang=\"en\" href=\"#\">\n",
      "<span b-0yw6sxot5c=\"\" class=\"flag-icon flag-icon-us\"></span> English\n",
      "                            </a>\n"
     ]
    }
   ],
   "source": [
    "\n",
    "\n",
    "a_tags = soup.find_all(\"a\")\n",
    "a_tags_alt = soup(\"a\")\n",
    "print(a_tags[0])\n",
    "print(a_tags_alt[0])"
   ]
  },
  {
   "cell_type": "markdown",
   "metadata": {},
   "source": [
    "# Comentario: German Camacho Brausendorff   Grupo 8 -------------------------\n",
    "# Se almacena en dos variable alternativa los elementos encontrados con el tag 'a'\n",
    "# Se presenta el primer elemento encontrado en ambas variables\n",
    "# ----------------------------------------------------------------------------  "
   ]
  },
  {
   "cell_type": "markdown",
   "metadata": {},
   "source": [
    "How many links did we obtain?"
   ]
  },
  {
   "cell_type": "code",
   "execution_count": null,
   "metadata": {},
   "outputs": [
    {
     "name": "stdout",
     "output_type": "stream",
     "text": [
      "270\n"
     ]
    }
   ],
   "source": [
    "\n",
    "\n",
    "print(len(a_tags))"
   ]
  },
  {
   "cell_type": "markdown",
   "metadata": {},
   "source": [
    "# Comentario: German Camacho Brausendorff   Grupo 8 -------------------------\n",
    "# Se presenta la cantidad de elementos encontrados con el tag 'a'   \n",
    "# ----------------------------------------------------------------------------"
   ]
  },
  {
   "cell_type": "markdown",
   "metadata": {},
   "source": [
    "That's a lot! Many elements on a page will have the same HTML tag. For instance, if you search for everything with the `a` tag, you're likely to get more hits, many of which you might not want. Remember, the `a` tag defines a hyperlink, so you'll usually find many on any given page.\n",
    "\n",
    "What if we wanted to search for HTML tags with certain attributes, such as particular CSS classes? \n",
    "\n",
    "We can do this by adding an additional argument to the `find_all`. In the example below, we are finding all the `a` tags, and then filtering those with `class_=\"sidemenu\"`."
   ]
  },
  {
   "cell_type": "code",
   "execution_count": null,
   "metadata": {
    "tags": []
   },
   "outputs": [
    {
     "data": {
      "text/plain": [
       "[<a class=\"notranslate\" href=\"/Senate/Members/Details/3312\">Neil Anderson</a>,\n",
       " <a class=\"notranslate\" href=\"/Senate/Members/Details/3312\">Neil Anderson</a>,\n",
       " <a class=\"notranslate\" href=\"/Senate/Members/Details/3316\">Omar Aquino</a>,\n",
       " <a class=\"notranslate\" href=\"/Senate/Members/Details/3316\">Omar Aquino</a>,\n",
       " <a class=\"notranslate\" href=\"/Senate/Members/Details/3383\">Li Arellano, Jr.</a>]"
      ]
     },
     "execution_count": 9,
     "metadata": {},
     "output_type": "execute_result"
    }
   ],
   "source": [
    "\n",
    "# Get only the 'a' tags in 'sidemenu' class\n",
    "side_menus = soup.find_all(\"a\", class_=\"notranslate\")\n",
    "side_menus[:5]"
   ]
  },
  {
   "cell_type": "markdown",
   "metadata": {},
   "source": [
    "# Comentario: German Camacho Brausendorff   Grupo 8 -------------------------\n",
    "# La pagina ha cambiado y ahora los enlaces de los menús laterales están en la clase 'notranslate'\n",
    "                       \n",
    "# Se comenta la siguiente línea y se usa la clase 'notranslate' para obtener\n",
    "# side_menus = soup.find_all(\"a\", class_=\"sidemenu\")\n",
    "\n",
    "# Luego se presenta la información de los ultimos 5 elementos encontrados\n",
    "# ----------------------------------------------------------------------------"
   ]
  },
  {
   "cell_type": "markdown",
   "metadata": {},
   "source": [
    "A more efficient way to search for elements on a website is via a **CSS selector**. For this we have to use a different method called `select()`. Just pass a string into the `.select()` to get all elements with that string as a valid CSS selector.\n",
    "\n",
    "In the example above, we can use `\"a.sidemenu\"` as a CSS selector, which returns all `a` tags with class `sidemenu`."
   ]
  },
  {
   "cell_type": "code",
   "execution_count": null,
   "metadata": {
    "tags": []
   },
   "outputs": [
    {
     "data": {
      "text/plain": [
       "[<a class=\"notranslate\" href=\"/Senate/Members/Details/3312\">Neil Anderson</a>,\n",
       " <a class=\"notranslate\" href=\"/Senate/Members/Details/3312\">Neil Anderson</a>,\n",
       " <a class=\"notranslate\" href=\"/Senate/Members/Details/3316\">Omar Aquino</a>,\n",
       " <a class=\"notranslate\" href=\"/Senate/Members/Details/3316\">Omar Aquino</a>,\n",
       " <a class=\"notranslate\" href=\"/Senate/Members/Details/3383\">Li Arellano, Jr.</a>]"
      ]
     },
     "execution_count": 13,
     "metadata": {},
     "output_type": "execute_result"
    }
   ],
   "source": [
    "\n",
    "selected = soup.select(\"a.notranslate\")\n",
    "selected[:5]"
   ]
  },
  {
   "cell_type": "markdown",
   "metadata": {},
   "source": [
    "# Comentario: German Camacho Brausendorff   Grupo 8 -------------------------\n",
    "# La pagina ha cambiado y ahora los enlaces de los menús laterales están en la clase 'notranslate'\n",
    "                       \n",
    "# Se comentan las siguientes 2 línea y se usa la clase 'notranslate' para obtener\n",
    "# Get elements with \"a.sidemenu\" CSS Selector.\n",
    "# selected = soup.select(\"a.sidemenu\")\n",
    "\n",
    "# Se obtienen los elementos con el selector CSS \"a.notranslate\"\n",
    "# Luego se presenta la información de los ultimos 5 elementos encontrados\n",
    "# ----------------------------------------------------------------------------\n"
   ]
  },
  {
   "cell_type": "markdown",
   "metadata": {},
   "source": [
    "## 🥊 Challenge: Find All\n",
    "\n",
    "Use BeautifulSoup to find all the `a` elements with class `mainmenu`."
   ]
  },
  {
   "cell_type": "code",
   "execution_count": null,
   "metadata": {},
   "outputs": [
    {
     "data": {
      "text/plain": [
       "[<a class=\"notranslate\" href=\"/Senate/Members/Details/3312\">Neil Anderson</a>,\n",
       " <a class=\"notranslate\" href=\"/Senate/Members/Details/3312\">Neil Anderson</a>,\n",
       " <a class=\"notranslate\" href=\"/Senate/Members/Details/3316\">Omar Aquino</a>,\n",
       " <a class=\"notranslate\" href=\"/Senate/Members/Details/3316\">Omar Aquino</a>,\n",
       " <a class=\"notranslate\" href=\"/Senate/Members/Details/3383\">Li Arellano, Jr.</a>]"
      ]
     },
     "execution_count": 8,
     "metadata": {},
     "output_type": "execute_result"
    }
   ],
   "source": [
    "\n",
    "selected = soup.find_all(\"a\", class_=\"notranslate\")\n",
    "selected[0:5]"
   ]
  },
  {
   "cell_type": "markdown",
   "metadata": {},
   "source": [
    "# Comentario: German Camacho Brausendorff   Grupo 8 -------------------------\n",
    "# Para obtener todos los enlaces de la clase 'notranslate'\n",
    "# Se presenta la información de los 5 primeros elementos encontrados\n",
    "#----------------------------------------------------------------------------"
   ]
  },
  {
   "cell_type": "markdown",
   "metadata": {},
   "source": [
    "## Step 4: Get Attributes and Text of Elements\n",
    "\n",
    "Once we identify elements, we want the access information in that element. Usually, this means two things:\n",
    "\n",
    "1. Text\n",
    "2. Attributes\n",
    "\n",
    "Getting the text inside an element is easy. All we have to do is use the `text` member of a `tag` object:"
   ]
  },
  {
   "cell_type": "code",
   "execution_count": null,
   "metadata": {
    "tags": []
   },
   "outputs": [
    {
     "name": "stdout",
     "output_type": "stream",
     "text": [
      "<a class=\"notranslate\" href=\"/Senate/Members/Details/3312\">Neil Anderson</a>\n",
      "Class:  <class 'bs4.element.Tag'>\n"
     ]
    }
   ],
   "source": [
    "\n",
    "side_menu_links = soup.select(\"a.notranslate\")\n",
    "\n",
    "# Examine the first link\n",
    "first_link = side_menu_links[0]\n",
    "print(first_link)\n",
    "\n",
    "# What class is this variable?\n",
    "print('Class: ', type(first_link))"
   ]
  },
  {
   "cell_type": "markdown",
   "metadata": {},
   "source": [
    "# Comentario: German Camacho Brausendorff   Grupo 8 -------------------------\n",
    "# se almacena en la variable side_menu_links los elementos encontrados con el tag 'a.notranslate'\n",
    "# se almacena en una va=riable alternativa el primer elemento encontrado y se presenta el resultado en pantalla\n",
    "# Se presenta adicionalmente la clase del primer elemento encontrado\n",
    "# -------------------------------------------------------------------------------------------------------------"
   ]
  },
  {
   "cell_type": "markdown",
   "metadata": {},
   "source": [
    "It's a Beautiful Soup tag! This means it has a `text` member:"
   ]
  },
  {
   "cell_type": "code",
   "execution_count": null,
   "metadata": {
    "tags": []
   },
   "outputs": [
    {
     "name": "stdout",
     "output_type": "stream",
     "text": [
      "Neil Anderson\n"
     ]
    }
   ],
   "source": [
    "\n",
    "print(first_link.text)"
   ]
  },
  {
   "cell_type": "markdown",
   "metadata": {},
   "source": [
    "# Comentario: German Camacho Brausendorff   Grupo 8 -------------------------\n",
    "# se presenta el texto del primer elemento encontrado que corresponde al nombre del Senador\n",
    "# ----------------------------------------------------------------------------"
   ]
  },
  {
   "cell_type": "markdown",
   "metadata": {},
   "source": [
    "Sometimes we want the value of certain attributes. This is particularly relevant for `a` tags, or links, where the `href` attribute tells us where the link goes.\n",
    "\n",
    "💡 **Tip**: You can access a tag’s attributes by treating the tag like a dictionary:"
   ]
  },
  {
   "cell_type": "code",
   "execution_count": null,
   "metadata": {
    "tags": []
   },
   "outputs": [
    {
     "name": "stdout",
     "output_type": "stream",
     "text": [
      "/Senate/Members/Details/3312\n"
     ]
    }
   ],
   "source": [
    "\n",
    "print(first_link['href'])"
   ]
  },
  {
   "cell_type": "markdown",
   "metadata": {},
   "source": [
    "# Comentario: German Camacho Brausendorff   Grupo 8 -------------------------\n",
    "# se presenta el enlace del primer elemento encontrado que corresponde al link donde se encuentra la información del Senador\n",
    "# ----------------------------------------------------------------------------  "
   ]
  },
  {
   "cell_type": "markdown",
   "metadata": {},
   "source": [
    "## 🥊 Challenge: Extract specific attributes\n",
    "\n",
    "Extract all `href` attributes for each `mainmenu` URL."
   ]
  },
  {
   "cell_type": "code",
   "execution_count": null,
   "metadata": {},
   "outputs": [],
   "source": [
    "# YOUR CODE HERE\n"
   ]
  },
  {
   "cell_type": "markdown",
   "metadata": {},
   "source": [
    "<a id='scrape'></a>\n",
    "\n",
    "# Scraping the Illinois General Assembly\n",
    "\n",
    "Believe it or not, those are really the fundamental tools you need to scrape a website. Once you spend more time familiarizing yourself with HTML and CSS, then it's simply a matter of understanding the structure of a particular website and intelligently applying the tools of Beautiful Soup and Python.\n",
    "\n",
    "Let's apply these skills to scrape the [Illinois 98th General Assembly](http://www.ilga.gov/senate/default.asp?GA=98).\n",
    "\n",
    "Specifically, our goal is to scrape information on each senator, including their name, district, and party."
   ]
  },
  {
   "cell_type": "markdown",
   "metadata": {},
   "source": [
    "## Scrape and Soup the Webpage\n",
    "\n",
    "Let's scrape and parse the webpage, using the tools we learned in the previous section."
   ]
  },
  {
   "cell_type": "code",
   "execution_count": 20,
   "metadata": {
    "tags": []
   },
   "outputs": [],
   "source": [
    "\n",
    "# Make a GET request\n",
    "req = requests.get('https://www.ilga.gov/Senate/Members/List')\n",
    "# Read the content of the server’s response\n",
    "src = req.text\n",
    "# Soup it\n",
    "soup = BeautifulSoup(src, \"lxml\")"
   ]
  },
  {
   "cell_type": "markdown",
   "metadata": {},
   "source": [
    "# Comentario: German Camacho Brausendorff   Grupo 8 -------------------------\n",
    "# Se hace una solicitud GET a una lista de los Senadores\n",
    "# La siguiente linea se comenta puesto que la pagina cambio \n",
    "# #req = requests.get('http://www.ilga.gov/senate/default.asp?GA=98')\n",
    "# se reemplaza por la sigueinte linea:\n",
    "# req = requests.get('https://www.ilga.gov/Senate/Members/List')\n",
    "#\n",
    "# Luego de ejecutar la solicitud GET se almacena la informaicon en la variable src\n",
    "# Luego se la formatea con la libreria BeatifulSoup y se almacena la infomacion en la variable soup\n"
   ]
  },
  {
   "cell_type": "markdown",
   "metadata": {},
   "source": [
    "## Search for the Table Elements\n",
    "\n",
    "Our goal is to obtain the elements in the table on the webpage. Remember: rows are identified by the `tr` tag. Let's use `find_all` to obtain these elements."
   ]
  },
  {
   "cell_type": "code",
   "execution_count": 21,
   "metadata": {},
   "outputs": [
    {
     "name": "stdout",
     "output_type": "stream",
     "text": [
      "62\n"
     ]
    },
    {
     "data": {
      "text/plain": [
       "[<tr>\n",
       " <th class=\"sortable-column\" onclick=\"window.location.href = '?sortField=name&amp;sortOrder=asc';\">\n",
       " <span>Senator</span>\n",
       " <span class=\"sort-indicator\">↓↑</span>\n",
       " </th>\n",
       " <th class=\"sortable-column\" onclick=\"window.location.href = '?sortField=district&amp;sortOrder=asc';\">\n",
       " <span>District</span>\n",
       " <span class=\"sort-indicator\">↓↑</span>\n",
       " </th>\n",
       " <th class=\"sortable-column\" onclick=\"window.location.href = '?sortField=party&amp;sortOrder=asc';\">\n",
       " <span>Party</span>\n",
       " <span class=\"sort-indicator\">↓↑</span>\n",
       " </th>\n",
       " </tr>,\n",
       " <tr class=\"member-card-container\" data-name=\"neil anderson\">\n",
       " <td scope=\"row\"><a class=\"notranslate\" href=\"/Senate/Members/Details/3312\">Neil Anderson</a></td>\n",
       " <td>47</td>\n",
       " <td>R</td>\n",
       " </tr>,\n",
       " <tr class=\"member-card-container\" data-name=\"omar aquino\">\n",
       " <td scope=\"row\"><a class=\"notranslate\" href=\"/Senate/Members/Details/3316\">Omar Aquino</a></td>\n",
       " <td>2</td>\n",
       " <td>D</td>\n",
       " </tr>,\n",
       " <tr class=\"member-card-container\" data-name=\"li arellano\">\n",
       " <td scope=\"row\"><a class=\"notranslate\" href=\"/Senate/Members/Details/3383\">Li Arellano, Jr.</a></td>\n",
       " <td>37</td>\n",
       " <td>R</td>\n",
       " </tr>,\n",
       " <tr class=\"member-card-container\" data-name=\"chris balkema\">\n",
       " <td scope=\"row\"><a class=\"notranslate\" href=\"/Senate/Members/Details/3413\">Chris Balkema</a></td>\n",
       " <td>53</td>\n",
       " <td>R</td>\n",
       " </tr>]"
      ]
     },
     "execution_count": 21,
     "metadata": {},
     "output_type": "execute_result"
    }
   ],
   "source": [
    "\n",
    "\n",
    "# Get all table row elements\n",
    "rows = soup.find_all(\"tr\")\n",
    "# Check the number of rows found        \n",
    "print(len(rows))\n",
    "# Display the first 5 rows\n",
    "# Get all table row elements\n",
    "rows[:5]"
   ]
  },
  {
   "cell_type": "markdown",
   "metadata": {},
   "source": [
    "# Comentario: German Camacho Brausendorff   Grupo 8 -------------------------\n",
    "# Se almacena en la variable rows los elementos encontrados con el tag 'tr'\n",
    "# Se presenta la cantidad de elementos encontrados\n",
    "# Se presenta adicionalmente los 5 ultimos elementos encontrados\n"
   ]
  },
  {
   "cell_type": "markdown",
   "metadata": {},
   "source": []
  },
  {
   "cell_type": "markdown",
   "metadata": {},
   "source": [
    "⚠️ **Warning**: Keep in mind: `find_all` gets *all* the elements with the `tr` tag. We only want some of them. If we use the 'Inspect' function in Google Chrome and look carefully, then we can use some CSS selectors to get just the rows we're interested in. Specifically, we want the inner rows of the table:"
   ]
  },
  {
   "cell_type": "code",
   "execution_count": 22,
   "metadata": {},
   "outputs": [
    {
     "name": "stdout",
     "output_type": "stream",
     "text": [
      "<tr>\n",
      "<th class=\"sortable-column\" onclick=\"window.location.href = '?sortField=name&amp;sortOrder=asc';\">\n",
      "<span>Senator</span>\n",
      "<span class=\"sort-indicator\">↓↑</span>\n",
      "</th>\n",
      "<th class=\"sortable-column\" onclick=\"window.location.href = '?sortField=district&amp;sortOrder=asc';\">\n",
      "<span>District</span>\n",
      "<span class=\"sort-indicator\">↓↑</span>\n",
      "</th>\n",
      "<th class=\"sortable-column\" onclick=\"window.location.href = '?sortField=party&amp;sortOrder=asc';\">\n",
      "<span>Party</span>\n",
      "<span class=\"sort-indicator\">↓↑</span>\n",
      "</th>\n",
      "</tr> \n",
      "\n",
      "<tr class=\"member-card-container\" data-name=\"neil anderson\">\n",
      "<td scope=\"row\"><a class=\"notranslate\" href=\"/Senate/Members/Details/3312\">Neil Anderson</a></td>\n",
      "<td>47</td>\n",
      "<td>R</td>\n",
      "</tr> \n",
      "\n",
      "<tr class=\"member-card-container\" data-name=\"omar aquino\">\n",
      "<td scope=\"row\"><a class=\"notranslate\" href=\"/Senate/Members/Details/3316\">Omar Aquino</a></td>\n",
      "<td>2</td>\n",
      "<td>D</td>\n",
      "</tr> \n",
      "\n",
      "<tr class=\"member-card-container\" data-name=\"li arellano\">\n",
      "<td scope=\"row\"><a class=\"notranslate\" href=\"/Senate/Members/Details/3383\">Li Arellano, Jr.</a></td>\n",
      "<td>37</td>\n",
      "<td>R</td>\n",
      "</tr> \n",
      "\n",
      "<tr class=\"member-card-container\" data-name=\"chris balkema\">\n",
      "<td scope=\"row\"><a class=\"notranslate\" href=\"/Senate/Members/Details/3413\">Chris Balkema</a></td>\n",
      "<td>53</td>\n",
      "<td>R</td>\n",
      "</tr> \n",
      "\n"
     ]
    }
   ],
   "source": [
    "# Returns every ‘tr tr tr’ css selector in the page\n",
    "\n",
    "rows = soup.select('tr')  \n",
    "\n",
    "\n",
    "for row in rows[:5]:\n",
    "    print(row, '\\n')"
   ]
  },
  {
   "cell_type": "markdown",
   "metadata": {},
   "source": [
    "# Comentario: German Camacho Brausendorff   Grupo 8 -------------------------\n",
    "# Se realiza una consulta CSS para obtener todos los elementos 'tr' sin embargo la sentencia original no funciona\n",
    "# rows = soup.select('tr tr tr')  # Esta línea no funciona correctamente porque no hay un tercer nivel de 'tr' dentro de los 'tr' seleccionados\n",
    "# Se corrige la sentencia para obtener todos los elementos 'tr' directamente\n",
    "\n",
    "# Luego se almacena en la variable rows los elementos encontrados con el tag 'tr'.\n",
    "# Se presenta  las 5 ultimas  fila de la tabla usando el ciclo for.\n"
   ]
  },
  {
   "cell_type": "markdown",
   "metadata": {},
   "source": [
    "It looks like we want everything after the first two rows. Let's work with a single row to start, and build our loop from there."
   ]
  },
  {
   "cell_type": "code",
   "execution_count": 23,
   "metadata": {},
   "outputs": [
    {
     "name": "stdout",
     "output_type": "stream",
     "text": [
      "<tr class=\"member-card-container\" data-name=\"omar aquino\">\n",
      " <td scope=\"row\">\n",
      "  <a class=\"notranslate\" href=\"/Senate/Members/Details/3316\">\n",
      "   Omar Aquino\n",
      "  </a>\n",
      " </td>\n",
      " <td>\n",
      "  2\n",
      " </td>\n",
      " <td>\n",
      "  D\n",
      " </td>\n",
      "</tr>\n",
      "\n"
     ]
    }
   ],
   "source": [
    "\n",
    "example_row = rows[2]\n",
    "print(example_row.prettify())"
   ]
  },
  {
   "cell_type": "markdown",
   "metadata": {},
   "source": [
    "# Comentario: German Camacho Brausendorff   Grupo 8 -------------------------\n",
    "# se almacena en la variable example_row el elementos nro 3 encontrados con el tag 'tr'\n",
    "# Se presenta el contenido de example_row\n",
    "# --------------------------------------------------------------------------"
   ]
  },
  {
   "cell_type": "markdown",
   "metadata": {},
   "source": [
    "Let's break this row down into its component cells/columns using the `select` method with CSS selectors. Looking closely at the HTML, there are a couple of ways we could do this.\n",
    "\n",
    "* We could identify the cells by their tag `td`.\n",
    "* We could use the the class name `.detail`.\n",
    "* We could combine both and use the selector `td.detail`."
   ]
  },
  {
   "cell_type": "code",
   "execution_count": 24,
   "metadata": {},
   "outputs": [
    {
     "name": "stdout",
     "output_type": "stream",
     "text": [
      "<td scope=\"row\"><a class=\"notranslate\" href=\"/Senate/Members/Details/3316\">Omar Aquino</a></td>\n",
      "<td>2</td>\n",
      "<td>D</td>\n",
      "\n",
      "\n",
      "\n"
     ]
    }
   ],
   "source": [
    "for cell in example_row.select('td'):\n",
    "    print(cell)\n",
    "print()\n",
    "\n",
    "for cell in example_row.select('.detail'):\n",
    "    print(cell)\n",
    "print()\n",
    "\n",
    "for cell in example_row.select('td.detail'):\n",
    "    print(cell)\n",
    "print()"
   ]
  },
  {
   "cell_type": "markdown",
   "metadata": {},
   "source": [
    "# Comentario: German Camacho Brausendorff   Grupo 8 -------------------------\n",
    "# Con el ciclo for se presenta la infrmacion de los tags, td , .detail y td.detail de lo seleccionado anteriormente en la variable example.row\n",
    "# --------------------------------------------------------------------------"
   ]
  },
  {
   "cell_type": "markdown",
   "metadata": {},
   "source": [
    "We can confirm that these are all the same."
   ]
  },
  {
   "cell_type": "code",
   "execution_count": 34,
   "metadata": {
    "tags": []
   },
   "outputs": [],
   "source": [
    "#assert example_row.select('td') == example_row.select('.detail') == example_row.select('td.detail')\n",
    "assert example_row.select('.detail') == example_row.select('td.detail')\n"
   ]
  },
  {
   "cell_type": "markdown",
   "metadata": {},
   "source": [
    "# Comentario: German Camacho Brausendorff   Grupo 8 -------------------------\n",
    "# Se hace una comparacion de la informacion , sin embargo la linea origina se la comenta debido a que la \n",
    "# verificacion con el tad td no esta funcionando.\n",
    "# --------------------------------------------------------------------------"
   ]
  },
  {
   "cell_type": "markdown",
   "metadata": {},
   "source": [
    "Let's use the selector `td.detail` to be as specific as possible."
   ]
  },
  {
   "cell_type": "code",
   "execution_count": 37,
   "metadata": {},
   "outputs": [
    {
     "data": {
      "text/plain": [
       "[<td scope=\"row\"><a class=\"notranslate\" href=\"/Senate/Members/Details/3316\">Omar Aquino</a></td>,\n",
       " <td>2</td>,\n",
       " <td>D</td>]"
      ]
     },
     "execution_count": 37,
     "metadata": {},
     "output_type": "execute_result"
    }
   ],
   "source": [
    "# Select only those 'td' tags with class 'detail' \n",
    "detail_cells = example_row.select('td')\n",
    "detail_cells"
   ]
  },
  {
   "cell_type": "markdown",
   "metadata": {},
   "source": [
    "# Comentario: German Camacho Brausendorff   Grupo 8 -------------------------\n",
    "# Se almacena en la variable detail_cel la informacion del registro seleccionado anteriormente y\n",
    "# se presenta la informacion en crudo.\n",
    "# --------------------------------------------------------------------------"
   ]
  },
  {
   "cell_type": "markdown",
   "metadata": {},
   "source": [
    "Most of the time, we're interested in the actual **text** of a website, not its tags. Recall that to get the text of an HTML element, we use the `text` member:"
   ]
  },
  {
   "cell_type": "code",
   "execution_count": 29,
   "metadata": {},
   "outputs": [
    {
     "name": "stdout",
     "output_type": "stream",
     "text": [
      "['Omar Aquino', '2', 'D']\n"
     ]
    }
   ],
   "source": [
    "# Keep only the text in each of those cells\n",
    "row_data = [cell.text for cell in detail_cells]\n",
    "\n",
    "print(row_data)"
   ]
  },
  {
   "cell_type": "markdown",
   "metadata": {},
   "source": [
    "# Comentario: German Camacho Brausendorff   Grupo 8 -------------------------\n",
    "# se almacena la informacion en un diccionario de manera que luego se pueda \n",
    "# presentar la informacion de forma mas clara.\n",
    "# --------------------------------------------------------------------------"
   ]
  },
  {
   "cell_type": "markdown",
   "metadata": {},
   "source": [
    "Looks good! Now we just use our basic Python knowledge to get the elements of this list that we want. Remember, we want the senator's name, their district, and their party."
   ]
  },
  {
   "cell_type": "code",
   "execution_count": 30,
   "metadata": {},
   "outputs": [
    {
     "name": "stdout",
     "output_type": "stream",
     "text": [
      "Omar Aquino\n",
      "2\n",
      "D\n"
     ]
    }
   ],
   "source": [
    "print(row_data[0]) # Name\n",
    "print(row_data[1]) # District\n",
    "print(row_data[2]) # Party"
   ]
  },
  {
   "cell_type": "markdown",
   "metadata": {},
   "source": [
    "# Comentario: German Camacho Brausendorff   Grupo 8 -------------------------\n",
    "# Se presenta la informacion del diccionario creado con la informaicon del registro seleccionado\n",
    "# y se lo presenta de manera individual cada campo.\n",
    "# --------------------------------------------------------------------------"
   ]
  },
  {
   "cell_type": "markdown",
   "metadata": {},
   "source": [
    "## Getting Rid of Junk Rows\n",
    "\n",
    "We saw at the beginning that not all of the rows we got actually correspond to a senator. We'll need to do some cleaning before we can proceed forward. Take a look at some examples:"
   ]
  },
  {
   "cell_type": "code",
   "execution_count": 38,
   "metadata": {},
   "outputs": [
    {
     "name": "stdout",
     "output_type": "stream",
     "text": [
      "Row 0:\n",
      " <tr>\n",
      "<th class=\"sortable-column\" onclick=\"window.location.href = '?sortField=name&amp;sortOrder=asc';\">\n",
      "<span>Senator</span>\n",
      "<span class=\"sort-indicator\">↓↑</span>\n",
      "</th>\n",
      "<th class=\"sortable-column\" onclick=\"window.location.href = '?sortField=district&amp;sortOrder=asc';\">\n",
      "<span>District</span>\n",
      "<span class=\"sort-indicator\">↓↑</span>\n",
      "</th>\n",
      "<th class=\"sortable-column\" onclick=\"window.location.href = '?sortField=party&amp;sortOrder=asc';\">\n",
      "<span>Party</span>\n",
      "<span class=\"sort-indicator\">↓↑</span>\n",
      "</th>\n",
      "</tr> \n",
      "\n",
      "Row 1:\n",
      " <tr class=\"member-card-container\" data-name=\"neil anderson\">\n",
      "<td scope=\"row\"><a class=\"notranslate\" href=\"/Senate/Members/Details/3312\">Neil Anderson</a></td>\n",
      "<td>47</td>\n",
      "<td>R</td>\n",
      "</tr> \n",
      "\n",
      "Last Row:\n",
      " <tr class=\"member-card-container\" data-name=\"dan mcconchie\">\n",
      "<td scope=\"row\"><a class=\"notranslate\" href=\"/Senate/Members/Details/3315\">Dan McConchie</a></td>\n",
      "<td>26</td>\n",
      "<td>R</td>\n",
      "</tr>\n"
     ]
    }
   ],
   "source": [
    "print('Row 0:\\n', rows[0], '\\n')\n",
    "print('Row 1:\\n', rows[1], '\\n')\n",
    "print('Last Row:\\n', rows[-1])"
   ]
  },
  {
   "cell_type": "markdown",
   "metadata": {},
   "source": [
    "# Comentario: German Camacho Brausendorff   Grupo 8 -------------------------\n",
    "# Se presenta la informacion de los registros 1,2 y el ultimo de la variable rows\n",
    "# --------------------------------------------------------------------------"
   ]
  },
  {
   "cell_type": "markdown",
   "metadata": {},
   "source": [
    "When we write our for loop, we only want it to apply to the relevant rows. So we'll need to filter out the irrelevant rows. The way to do this is to compare some of these to the rows we do want, see how they differ, and then formulate that in a conditional.\n",
    "\n",
    "As you can imagine, there a lot of possible ways to do this, and it'll depend on the website. We'll show some here to give you an idea of how to do this."
   ]
  },
  {
   "cell_type": "code",
   "execution_count": 72,
   "metadata": {},
   "outputs": [
    {
     "name": "stdout",
     "output_type": "stream",
     "text": [
      "7\n",
      "7\n",
      "7\n",
      "7\n"
     ]
    }
   ],
   "source": [
    "# Bad rows\n",
    "print(len(rows[0]))\n",
    "\n",
    "\n",
    "# Good rows\n",
    "print(len(rows[1]))\n",
    "print(len(rows[2]))\n",
    "print(len(rows[3]))"
   ]
  },
  {
   "cell_type": "markdown",
   "metadata": {},
   "source": [
    "# Comentario: German Camacho Brausendorff   Grupo 8 -------------------------\n",
    "# No se pudo determinar registro con valores menores a 7 y por ende todos los registros son validos.\n",
    "# --------------------------------------------------------------------------"
   ]
  },
  {
   "cell_type": "markdown",
   "metadata": {},
   "source": [
    "Perhaps good rows have a length of 5. Let's check:"
   ]
  },
  {
   "cell_type": "code",
   "execution_count": 73,
   "metadata": {},
   "outputs": [
    {
     "name": "stdout",
     "output_type": "stream",
     "text": [
      "<tr>\n",
      "<th class=\"sortable-column\" onclick=\"window.location.href = '?sortField=name&amp;sortOrder=asc';\">\n",
      "<span>Senator</span>\n",
      "<span class=\"sort-indicator\">↓↑</span>\n",
      "</th>\n",
      "<th class=\"sortable-column\" onclick=\"window.location.href = '?sortField=district&amp;sortOrder=asc';\">\n",
      "<span>District</span>\n",
      "<span class=\"sort-indicator\">↓↑</span>\n",
      "</th>\n",
      "<th class=\"sortable-column\" onclick=\"window.location.href = '?sortField=party&amp;sortOrder=asc';\">\n",
      "<span>Party</span>\n",
      "<span class=\"sort-indicator\">↓↑</span>\n",
      "</th>\n",
      "</tr> \n",
      "\n",
      "<tr>\n",
      "<th class=\"sortable-column\" onclick=\"window.location.href = '?sortField=name&amp;sortOrder=asc';\">\n",
      "<span>Senator</span>\n",
      "<span class=\"sort-indicator\">↓↑</span>\n",
      "</th>\n",
      "<th class=\"sortable-column\" onclick=\"window.location.href = '?sortField=district&amp;sortOrder=asc';\">\n",
      "<span>District</span>\n",
      "<span class=\"sort-indicator\">↓↑</span>\n",
      "</th>\n",
      "<th class=\"sortable-column\" onclick=\"window.location.href = '?sortField=party&amp;sortOrder=asc';\">\n",
      "<span>Party</span>\n",
      "<span class=\"sort-indicator\">↓↑</span>\n",
      "</th>\n",
      "</tr> \n",
      "\n",
      "<tr class=\"member-card-container\" data-name=\"dan mcconchie\">\n",
      "<td scope=\"row\"><a class=\"notranslate\" href=\"/Senate/Members/Details/3315\">Dan McConchie</a></td>\n",
      "<td>26</td>\n",
      "<td>R</td>\n",
      "</tr>\n"
     ]
    }
   ],
   "source": [
    "good_rows = [row for row in rows if len(row) == 7]\n",
    "\n",
    "# Let's check some rows\n",
    "print(good_rows[0], '\\n')\n",
    "print(good_rows[-2], '\\n')\n",
    "print(good_rows[-1])"
   ]
  },
  {
   "cell_type": "markdown",
   "metadata": {},
   "source": [
    "# Comentario: German Camacho Brausendorff   Grupo 8 -------------------------\n",
    "# Se almacenan en una nueva variabe good_rows los registros que tengan 7 elementos\n",
    "# y luego se presentan los registros 1 y los dos ultimos.\n",
    "# --------------------------------------------------------------------------"
   ]
  },
  {
   "cell_type": "markdown",
   "metadata": {},
   "source": [
    "We found a footer row in our list that we'd like to avoid. Let's try something else:"
   ]
  },
  {
   "cell_type": "code",
   "execution_count": 76,
   "metadata": {},
   "outputs": [
    {
     "data": {
      "text/plain": [
       "[<td scope=\"row\"><a class=\"notranslate\" href=\"/Senate/Members/Details/3316\">Omar Aquino</a></td>,\n",
       " <td>2</td>,\n",
       " <td>D</td>]"
      ]
     },
     "execution_count": 76,
     "metadata": {},
     "output_type": "execute_result"
    }
   ],
   "source": [
    "rows[2].select('td')"
   ]
  },
  {
   "cell_type": "markdown",
   "metadata": {},
   "source": [
    "# Comentario: German Camacho Brausendorff   Grupo 8 -------------------------\n",
    "# Se presenta en pantalla el 3er registro con tag td\n",
    "# --------------------------------------------------------------------------"
   ]
  },
  {
   "cell_type": "code",
   "execution_count": 39,
   "metadata": {},
   "outputs": [
    {
     "name": "stdout",
     "output_type": "stream",
     "text": [
      "[<td scope=\"row\"><a class=\"notranslate\" href=\"/Senate/Members/Details/3315\">Dan McConchie</a></td>, <td>26</td>, <td>R</td>] \n",
      "\n",
      "[<td scope=\"row\"><a class=\"notranslate\" href=\"/Senate/Members/Details/3337\">Christopher Belt</a></td>, <td>57</td>, <td>D</td>] \n",
      "\n",
      "Checking rows...\n",
      "\n",
      "<tr class=\"member-card-container\" data-name=\"neil anderson\">\n",
      "<td scope=\"row\"><a class=\"notranslate\" href=\"/Senate/Members/Details/3312\">Neil Anderson</a></td>\n",
      "<td>47</td>\n",
      "<td>R</td>\n",
      "</tr> \n",
      "\n",
      "<tr class=\"member-card-container\" data-name=\"dan mcconchie\">\n",
      "<td scope=\"row\"><a class=\"notranslate\" href=\"/Senate/Members/Details/3315\">Dan McConchie</a></td>\n",
      "<td>26</td>\n",
      "<td>R</td>\n",
      "</tr>\n"
     ]
    }
   ],
   "source": [
    "# Bad row\n",
    "print(rows[-1].select('td'), '\\n')\n",
    "\n",
    "# Good row\n",
    "print(rows[5].select('td'), '\\n')\n",
    "\n",
    "# How about this?\n",
    "good_rows = [row for row in rows if row.select('td')]\n",
    "\n",
    "print(\"Checking rows...\\n\")\n",
    "print(good_rows[0], '\\n')\n",
    "print(good_rows[-1])"
   ]
  },
  {
   "cell_type": "markdown",
   "metadata": {},
   "source": [
    "# Comentario: German Camacho Brausendorff   Grupo 8 -------------------------\n",
    "# Se presentan regirtos y se vuelve a realizar yb cico para obtener la informacion \n",
    "# en la variable good_rows\n",
    "# --------------------------------------------------------------------------"
   ]
  },
  {
   "cell_type": "markdown",
   "metadata": {},
   "source": [
    "Looks like we found something that worked!"
   ]
  },
  {
   "cell_type": "markdown",
   "metadata": {},
   "source": [
    "## Loop it All Together\n",
    "\n",
    "Now that we've seen how to get the data we want from one row, as well as filter out the rows we don't want, let's put it all together into a loop."
   ]
  },
  {
   "cell_type": "code",
   "execution_count": 40,
   "metadata": {
    "tags": []
   },
   "outputs": [],
   "source": [
    "# Define storage list\n",
    "members = []\n",
    "\n",
    "# Get rid of junk rows\n",
    "valid_rows = [row for row in rows if row.select('td')]\n",
    "\n",
    "# Loop through all rows\n",
    "for row in valid_rows:\n",
    "    # Select only those 'td' tags with class 'detail'\n",
    "    detail_cells = row.select('td')\n",
    "    # Keep only the text in each of those cells\n",
    "    row_data = [cell.text for cell in detail_cells]\n",
    "    # Collect information\n",
    "    name = row_data[0]\n",
    "    district = int(row_data[1])\n",
    "    party = row_data[2]\n",
    "    # Store in a tuple\n",
    "    senator = (name, district, party)\n",
    "    # Append to list\n",
    "    members.append(senator)"
   ]
  },
  {
   "cell_type": "markdown",
   "metadata": {},
   "source": [
    "# Comentario: German Camacho Brausendorff   Grupo 8 -------------------------\n",
    "# Se define una variable para almacenar la informacion de los mienbros del senado\n",
    "# con un ciclo for se obtiene la informacion de cada campo y se lo almacena de manera separada a la lista de miembros\n",
    "# --------------------------------------------------------------------------"
   ]
  },
  {
   "cell_type": "code",
   "execution_count": 41,
   "metadata": {},
   "outputs": [
    {
     "data": {
      "text/plain": [
       "60"
      ]
     },
     "execution_count": 41,
     "metadata": {},
     "output_type": "execute_result"
    }
   ],
   "source": [
    "# Should be 61\n",
    "len(members)"
   ]
  },
  {
   "cell_type": "markdown",
   "metadata": {},
   "source": [
    "# Comentario: German Camacho Brausendorff   Grupo 8 -------------------------\n",
    "# Se presenta la cantidad de registros que se almacenaron en la lista\n",
    "# --------------------------------------------------------------------------"
   ]
  },
  {
   "cell_type": "markdown",
   "metadata": {},
   "source": [
    "Let's take a look at what we have in `members`."
   ]
  },
  {
   "cell_type": "code",
   "execution_count": 84,
   "metadata": {},
   "outputs": [
    {
     "name": "stdout",
     "output_type": "stream",
     "text": [
      "[('Neil Anderson', 47, 'R'), ('Omar Aquino', 2, 'D'), ('Li Arellano, Jr.', 37, 'R'), ('Chris Balkema', 53, 'R'), ('Christopher Belt', 57, 'D')]\n"
     ]
    }
   ],
   "source": [
    "print(members[:5])"
   ]
  },
  {
   "cell_type": "markdown",
   "metadata": {},
   "source": [
    "# Comentario: German Camacho Brausendorff   Grupo 8 -------------------------\n",
    "# Se presenta la informacion de los ultimos 5 registros de la lista members.\n",
    "# --------------------------------------------------------------------------"
   ]
  },
  {
   "cell_type": "markdown",
   "metadata": {},
   "source": [
    "## 🥊  Challenge: Get `href` elements pointing to members' bills \n",
    "\n",
    "The code above retrieves information on:  \n",
    "\n",
    "- the senator's name,\n",
    "- their district number,\n",
    "- and their party.\n",
    "\n",
    "We now want to retrieve the URL for each senator's list of bills. Each URL will follow a specific format. \n",
    "\n",
    "The format for the list of bills for a given senator is:\n",
    "\n",
    "`http://www.ilga.gov/senate/SenatorBills.asp?GA=98&MemberID=[MEMBER_ID]&Primary=True`\n",
    "\n",
    "to get something like:\n",
    "\n",
    "`http://www.ilga.gov/senate/SenatorBills.asp?MemberID=1911&GA=98&Primary=True`\n",
    "\n",
    "in which `MEMBER_ID=1911`. \n",
    "\n",
    "You should be able to see that, unfortunately, `MEMBER_ID` is not currently something pulled out in our scraping code.\n",
    "\n",
    "Your initial task is to modify the code above so that we also **retrieve the full URL which points to the corresponding page of primary-sponsored bills**, for each member, and return it along with their name, district, and party.\n",
    "\n",
    "Tips: \n",
    "\n",
    "* To do this, you will want to get the appropriate anchor element (`<a>`) in each legislator's row of the table. You can again use the `.select()` method on the `row` object in the loop to do this — similar to the command that finds all of the `td.detail` cells in the row. Remember that we only want the link to the legislator's bills, not the committees or the legislator's profile page.\n",
    "* The anchor elements' HTML will look like `<a href=\"/senate/Senator.asp/...\">Bills</a>`. The string in the `href` attribute contains the **relative** link we are after. You can access an attribute of a BeatifulSoup `Tag` object the same way you access a Python dictionary: `anchor['attributeName']`. See the <a href=\"http://www.crummy.com/software/BeautifulSoup/bs4/doc/#tag\">documentation</a> for more details.\n",
    "* There are a _lot_ of different ways to use BeautifulSoup to get things done. whatever you need to do to pull the `href` out is fine.\n",
    "\n",
    "The code has been partially filled out for you. Fill it in where it says `#YOUR CODE HERE`. Save the path into an object called `full_path`."
   ]
  },
  {
   "cell_type": "code",
   "execution_count": 43,
   "metadata": {
    "tags": []
   },
   "outputs": [],
   "source": [
    "# Make a GET request\n",
    "#req = requests.get('http://www.ilga.gov/senate/default.asp?GA=98')\n",
    "req = requests.get('https://www.ilga.gov/Senate/Members/List')\n",
    "\n",
    "# Read the content of the server’s response\n",
    "src = req.text\n",
    "# Soup it\n",
    "soup = BeautifulSoup(src, \"lxml\")\n",
    "# Create empty list to store our data\n",
    "members = []\n",
    "\n",
    "# Returns every ‘tr tr tr’ css selector in the page\n",
    "#rows = soup.select('tr tr tr')\n",
    "rows = soup.select('tr')\n",
    "# Get rid of junk rows\n",
    "#rows = [row for row in rows if row.select('td.detail')]\n",
    "rows = [row for row in rows if row.select('td')]\n",
    "\n",
    "\n",
    "# Loop through all rows\n",
    "for row in rows:\n",
    "    # Select only those 'td' tags with class 'detail'\n",
    "    # detail_cells = row.select('td.detail') \n",
    "    detail_cells = row.select('td') \n",
    "    # Keep only the text in each of those cells\n",
    "    row_data = [cell.text for cell in detail_cells]\n",
    "    # Collect information\n",
    "    name = row_data[0]\n",
    "    # district = int(row_data[3])\n",
    "    district = int(row_data[1])\n",
    "    # party = row_data[4]\n",
    "    party = row_data[2]\n",
    "\n",
    "    # YOUR CODE HERE\n",
    "    full_path = ''\n",
    "\n",
    "    # Store in a tuple\n",
    "    senator = (name, district, party, full_path)\n",
    "    # Append to list\n",
    "    members.append(senator)"
   ]
  },
  {
   "cell_type": "markdown",
   "metadata": {},
   "source": [
    "# Comentario: German Camacho Brausendorff   Grupo 8 -------------------------\n",
    "# En esta ejecucion se modifican algunas lineas debido a los cambio de la pagina \n",
    "# para su correcto fucnionamiento,  los cambios han sido realizados de acuerdo \n",
    "# a la logica seguida durante todo el ejercicio.\n",
    "# --------------------------------------------------------------------------"
   ]
  },
  {
   "cell_type": "code",
   "execution_count": 44,
   "metadata": {
    "tags": []
   },
   "outputs": [
    {
     "name": "stdout",
     "output_type": "stream",
     "text": [
      "[('Neil Anderson', 47, 'R', ''), ('Omar Aquino', 2, 'D', ''), ('Li Arellano, Jr.', 37, 'R', ''), ('Chris Balkema', 53, 'R', ''), ('Christopher Belt', 57, 'D', '')]\n"
     ]
    }
   ],
   "source": [
    "# Uncomment to test \n",
    "# members[:5]\n",
    "print(members[:5])"
   ]
  },
  {
   "cell_type": "markdown",
   "metadata": {},
   "source": [
    "# Comentario: German Camacho Brausendorff   Grupo 8 -------------------------\n",
    "# Se presenta la informacion de los ultimos 5 registros de la lista members.\n",
    "# --------------------------------------------------------------------------"
   ]
  },
  {
   "cell_type": "markdown",
   "metadata": {},
   "source": [
    "## 🥊  Challenge: Modularize Your Code\n",
    "\n",
    "Turn the code above into a function that accepts a URL, scrapes the URL for its senators, and returns a list of tuples containing information about each senator. "
   ]
  },
  {
   "cell_type": "code",
   "execution_count": null,
   "metadata": {
    "tags": []
   },
   "outputs": [],
   "source": [
    "# YOUR CODE HERE\n",
    "def get_members(url):\n",
    "    return [___]\n"
   ]
  },
  {
   "cell_type": "code",
   "execution_count": null,
   "metadata": {
    "tags": []
   },
   "outputs": [],
   "source": [
    "# Test your code\n",
    "url = 'http://www.ilga.gov/senate/default.asp?GA=98'\n",
    "senate_members = get_members(url)\n",
    "len(senate_members)"
   ]
  },
  {
   "cell_type": "markdown",
   "metadata": {},
   "source": [
    "## 🥊 Take-home Challenge: Writing a Scraper Function\n",
    "\n",
    "We want to scrape the webpages corresponding to bills sponsored by each bills.\n",
    "\n",
    "Write a function called `get_bills(url)` to parse a given bills URL. This will involve:\n",
    "\n",
    "  - requesting the URL using the <a href=\"http://docs.python-requests.org/en/latest/\">`requests`</a> library\n",
    "  - using the features of the `BeautifulSoup` library to find all of the `<td>` elements with the class `billlist`\n",
    "  - return a _list_ of tuples, each with:\n",
    "      - description (2nd column)\n",
    "      - chamber (S or H) (3rd column)\n",
    "      - the last action (4th column)\n",
    "      - the last action date (5th column)\n",
    "      \n",
    "This function has been partially completed. Fill in the rest."
   ]
  },
  {
   "cell_type": "code",
   "execution_count": null,
   "metadata": {
    "tags": []
   },
   "outputs": [],
   "source": [
    "def get_bills(url):\n",
    "    src = requests.get(url).text\n",
    "    soup = BeautifulSoup(src)\n",
    "    rows = soup.select('tr')\n",
    "    bills = []\n",
    "    for row in rows:\n",
    "        # YOUR CODE HERE\n",
    "        bill_id =\n",
    "        description =\n",
    "        chamber =\n",
    "        last_action =\n",
    "        last_action_date =\n",
    "        bill = (bill_id, description, chamber, last_action, last_action_date)\n",
    "        bills.append(bill)\n",
    "    return bills"
   ]
  },
  {
   "cell_type": "code",
   "execution_count": null,
   "metadata": {
    "tags": []
   },
   "outputs": [],
   "source": [
    "# Uncomment to test your code\n",
    "# test_url = senate_members[0][3]\n",
    "# get_bills(test_url)[0:5]"
   ]
  },
  {
   "cell_type": "markdown",
   "metadata": {},
   "source": [
    "### Scrape All Bills\n",
    "\n",
    "Finally, create a dictionary `bills_dict` which maps a district number (the key) onto a list of bills (the value) coming from that district. You can do this by looping over all of the senate members in `members_dict` and calling `get_bills()` for each of their associated bill URLs.\n",
    "\n",
    "**NOTE:** please call the function `time.sleep(1)` for each iteration of the loop, so that we don't destroy the state's web site."
   ]
  },
  {
   "cell_type": "code",
   "execution_count": null,
   "metadata": {
    "tags": []
   },
   "outputs": [],
   "source": [
    "# YOUR CODE HERE\n"
   ]
  },
  {
   "cell_type": "code",
   "execution_count": null,
   "metadata": {
    "tags": []
   },
   "outputs": [],
   "source": [
    "# Uncomment to test your code\n",
    "# bills_dict[52]"
   ]
  }
 ],
 "metadata": {
  "anaconda-cloud": {},
  "kernelspec": {
   "display_name": "base",
   "language": "python",
   "name": "python3"
  },
  "language_info": {
   "codemirror_mode": {
    "name": "ipython",
    "version": 3
   },
   "file_extension": ".py",
   "mimetype": "text/x-python",
   "name": "python",
   "nbconvert_exporter": "python",
   "pygments_lexer": "ipython3",
   "version": "3.13.5"
  }
 },
 "nbformat": 4,
 "nbformat_minor": 4
}
